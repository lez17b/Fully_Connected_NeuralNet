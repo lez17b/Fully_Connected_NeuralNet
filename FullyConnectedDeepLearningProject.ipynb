{
  "nbformat": 4,
  "nbformat_minor": 0,
  "metadata": {
    "colab": {
      "name": "FullyConnectedDeepLearningProject.ipynb",
      "provenance": [],
      "collapsed_sections": []
    },
    "kernelspec": {
      "name": "python3",
      "display_name": "Python 3"
    },
    "language_info": {
      "name": "python"
    }
  },
  "cells": [
    {
      "cell_type": "markdown",
      "metadata": {
        "id": "yBJMsDPeLoQf"
      },
      "source": [
        "Set up - Import Libraries and data"
      ]
    },
    {
      "cell_type": "code",
      "metadata": {
        "id": "j7l7W_apF6PX"
      },
      "source": [
        "import numpy as np\n",
        "import pandas as pd\n",
        "import matplotlib.pyplot as plt\n",
        "from tensorflow import keras\n",
        "from tensorflow.keras import layers\n",
        "from keras.models import Sequential\n",
        "from keras.layers import Dense\n",
        "from tensorflow.keras import initializers\n",
        "from keras import callbacks"
      ],
      "execution_count": 1,
      "outputs": []
    },
    {
      "cell_type": "code",
      "metadata": {
        "colab": {
          "base_uri": "https://localhost:8080/"
        },
        "id": "j4y_cvar2nFw",
        "outputId": "22cb623a-a4fc-496b-cb97-2c4fb1b64323"
      },
      "source": [
        "from google.colab import drive\n",
        "drive.mount('/content/drive')"
      ],
      "execution_count": 2,
      "outputs": [
        {
          "output_type": "stream",
          "name": "stdout",
          "text": [
            "Drive already mounted at /content/drive; to attempt to forcibly remount, call drive.mount(\"/content/drive\", force_remount=True).\n"
          ]
        }
      ]
    },
    {
      "cell_type": "code",
      "metadata": {
        "id": "76hZEhCB2uat"
      },
      "source": [
        "df_train = pd.read_csv(\"/content/drive/MyDrive/train7291.csv\")\n",
        "df_test = pd.read_csv(\"/content/drive/MyDrive/test2007.csv\")"
      ],
      "execution_count": 3,
      "outputs": []
    },
    {
      "cell_type": "markdown",
      "metadata": {
        "id": "2Z3W9YpuMnwD"
      },
      "source": [
        "Panda to numpy array"
      ]
    },
    {
      "cell_type": "code",
      "metadata": {
        "id": "SaF_VWpVmuIT"
      },
      "source": [
        "train_dataset = df_train.values\n",
        "test_dataset = df_test.values\n",
        "\n",
        "# Getting the features from the data set (X)\n",
        "x_train = train_dataset[:,1:257]\n",
        "x_test = test_dataset[:,1:257]\n",
        "\n",
        "# Getting the labels from the data set (Y)\n",
        "y_train = train_dataset[:,0]\n",
        "y_test = test_dataset[:,0]"
      ],
      "execution_count": 4,
      "outputs": []
    },
    {
      "cell_type": "markdown",
      "metadata": {
        "id": "e9DkErba641q"
      },
      "source": [
        "Understand the data\n"
      ]
    },
    {
      "cell_type": "code",
      "metadata": {
        "colab": {
          "base_uri": "https://localhost:8080/"
        },
        "id": "jbJLOk0rm9fF",
        "outputId": "d6d36785-4034-4431-addc-c119729122be"
      },
      "source": [
        "print(\"Train dataset features...\")\n",
        "print(\"Size: \", x_train.size)\n",
        "print(\"Dimensions: \", x_train.ndim)\n",
        "print(\"Shape: \", x_train.shape)\n",
        "print(\"\\nTest dataset features...\")\n",
        "print(\"Size: \", x_test.size)\n",
        "print(\"Dimensions: \", x_test.ndim)\n",
        "print(\"Shape: \", x_test.shape)"
      ],
      "execution_count": 5,
      "outputs": [
        {
          "output_type": "stream",
          "name": "stdout",
          "text": [
            "Train dataset features...\n",
            "Size:  1866496\n",
            "Dimensions:  2\n",
            "Shape:  (7291, 256)\n",
            "\n",
            "Test dataset features...\n",
            "Size:  513792\n",
            "Dimensions:  2\n",
            "Shape:  (2007, 256)\n"
          ]
        }
      ]
    },
    {
      "cell_type": "code",
      "metadata": {
        "colab": {
          "base_uri": "https://localhost:8080/"
        },
        "id": "uQpTjdvmoX2p",
        "outputId": "76c3c00d-a1aa-4f44-f0d4-19bbffb45210"
      },
      "source": [
        "# Need to convert the labels to type int...BE SURE TO RE-INITIALIZE! \n",
        "y_train = y_train.astype(int)\n",
        "print(\"Train labels:\")\n",
        "print(\"Dimensions: \", y_train.ndim)\n",
        "print(\"Shape: \", y_train.shape)\n",
        "\n",
        "y_test = y_test.astype(int)\n",
        "print(\"\\nTest labels:\")\n",
        "print(\"Dimensions: \", y_test.ndim)\n",
        "print(\"Shape: \", y_test.shape)"
      ],
      "execution_count": 6,
      "outputs": [
        {
          "output_type": "stream",
          "name": "stdout",
          "text": [
            "Train labels:\n",
            "Dimensions:  1\n",
            "Shape:  (7291,)\n",
            "\n",
            "Test labels:\n",
            "Dimensions:  1\n",
            "Shape:  (2007,)\n"
          ]
        }
      ]
    },
    {
      "cell_type": "code",
      "metadata": {
        "id": "CF79mQUGwp6V"
      },
      "source": [
        "# 0 -> 9 CAUTION,...RUNNING THIS BLOCK MORE THAN ONCE WILL BREAK THE MODEL. \n",
        "num_classes = 10\n",
        "y_test = keras.utils.to_categorical(y_test, num_classes)\n",
        "y_train = keras.utils.to_categorical(y_train, num_classes)"
      ],
      "execution_count": 7,
      "outputs": []
    },
    {
      "cell_type": "code",
      "metadata": {
        "id": "Q8pkTgQ-xUW0"
      },
      "source": [
        "model = Sequential()\n",
        "model.add(Dense(20, input_dim=256,activation='relu'))\n",
        "model.add(Dense(20, activation='relu'))\n",
        "model.add(Dense(20, activation='tanh'))\n",
        "model.add((Dense(10, activation='softmax')))"
      ],
      "execution_count": 36,
      "outputs": []
    },
    {
      "cell_type": "code",
      "metadata": {
        "colab": {
          "base_uri": "https://localhost:8080/"
        },
        "id": "5btCxRpk26UX",
        "outputId": "55d9520d-6f95-4d8e-b56d-555d1a29e7e2"
      },
      "source": [
        "model.summary()"
      ],
      "execution_count": 37,
      "outputs": [
        {
          "output_type": "stream",
          "name": "stdout",
          "text": [
            "Model: \"sequential_8\"\n",
            "_________________________________________________________________\n",
            "Layer (type)                 Output Shape              Param #   \n",
            "=================================================================\n",
            "dense_32 (Dense)             (None, 20)                5140      \n",
            "_________________________________________________________________\n",
            "dense_33 (Dense)             (None, 20)                420       \n",
            "_________________________________________________________________\n",
            "dense_34 (Dense)             (None, 20)                420       \n",
            "_________________________________________________________________\n",
            "dense_35 (Dense)             (None, 10)                210       \n",
            "=================================================================\n",
            "Total params: 6,190\n",
            "Trainable params: 6,190\n",
            "Non-trainable params: 0\n",
            "_________________________________________________________________\n"
          ]
        }
      ]
    },
    {
      "cell_type": "code",
      "metadata": {
        "id": "f5LCxpuN_o02"
      },
      "source": [
        "# model with zero wight initializer\n",
        "'''\n",
        "\n",
        "initializerZero = keras.initializers.Zeros()\n",
        "\n",
        "model = Sequential()\n",
        "model.add(Dense(20, input_dim=256,activation='relu', kernel_initializer=initializerZero))\n",
        "model.add(Dense(20, activation='relu'))\n",
        "model.add(Dense(20, activation='tanh', kernel_initializer=initializerZero))\n",
        "model.add((Dense(10, activation='softmax')))\n",
        "model.summary()\n",
        "'''"
      ],
      "execution_count": 24,
      "outputs": []
    },
    {
      "cell_type": "code",
      "metadata": {
        "id": "ko3YxfwlAX4D"
      },
      "source": [
        "# model with orthogonal class wight initializer\n",
        "'''\n",
        "\n",
        "initializerOth = keras.initializers.Orthogonal(gain=1.0, seed=None)\n",
        "\n",
        "model = Sequential()\n",
        "model.add(Dense(20, input_dim=256,activation='relu', kernel_initializer=initializerOth))\n",
        "model.add(Dense(20, activation='relu'))\n",
        "model.add(Dense(20, activation='tanh', kernel_initializer=initializerOth))\n",
        "model.add((Dense(10, activation='softmax')))\n",
        "model.summary()\n",
        "'''"
      ],
      "execution_count": null,
      "outputs": []
    },
    {
      "cell_type": "code",
      "metadata": {
        "id": "Us9soagWAzH8"
      },
      "source": [
        "# model with Random Normal values wight initializer\n",
        "'''\n",
        "initializerRanNorm = keras.initializers.RandomNormal(mean=0.0, stddev=0.05, seed=None)\n",
        "\n",
        "model = Sequential()\n",
        "model.add(Dense(20, input_dim=256,activation='relu', kernel_initializer=initializerRanNorm))\n",
        "model.add(Dense(20, activation='relu'))\n",
        "model.add(Dense(20, activation='tanh', kernel_initializer=initializerRanNorm))\n",
        "model.add((Dense(10, activation='softmax')))\n",
        "model.summary()\n",
        "'''"
      ],
      "execution_count": null,
      "outputs": []
    },
    {
      "cell_type": "code",
      "metadata": {
        "colab": {
          "base_uri": "https://localhost:8080/",
          "height": 533
        },
        "id": "ybVwhedTYpFv",
        "outputId": "7462885c-4947-45a7-c657-a4ce45819758"
      },
      "source": [
        "keras.utils.plot_model(model, show_shapes=True, show_dtype=True, show_layer_names=True)"
      ],
      "execution_count": 38,
      "outputs": [
        {
          "output_type": "execute_result",
          "data": {
            "image/png": "[encoded data removed]",
            "text/plain": [
              "<IPython.core.display.Image object>"
            ]
          },
          "metadata": {},
          "execution_count": 38
        }
      ]
    },
    {
      "cell_type": "code",
      "metadata": {
        "id": "9QJ01EBbypVR"
      },
      "source": [
        " model.compile(loss=\"categorical_crossentropy\", optimizer = \"adam\", metrics =[\"accuracy\"])"
      ],
      "execution_count": 39,
      "outputs": []
    },
    {
      "cell_type": "code",
      "metadata": {
        "colab": {
          "base_uri": "https://localhost:8080/"
        },
        "id": "3OLNjArEyyd4",
        "outputId": "e9cbb80d-c238-459a-f24a-3646578d8566"
      },
      "source": [
        "# when fitting can specify \n",
        "early_stopping = callbacks.EarlyStopping(monitor ='val_loss', mode ='min', patience = 5, restore_best_weights=True)\n",
        "history = model.fit(x_train, y_train, epochs = 15, batch_size = 128, validation_split = 0.3, callbacks=[early_stopping])"
      ],
      "execution_count": 40,
      "outputs": [
        {
          "output_type": "stream",
          "name": "stdout",
          "text": [
            "Epoch 1/15\n",
            "40/40 [==============================] - 1s 9ms/step - loss: 1.8741 - accuracy: 0.4004 - val_loss: 1.4855 - val_accuracy: 0.5996\n",
            "Epoch 2/15\n",
            "40/40 [==============================] - 0s 4ms/step - loss: 1.1924 - accuracy: 0.6804 - val_loss: 0.9375 - val_accuracy: 0.7381\n",
            "Epoch 3/15\n",
            "40/40 [==============================] - 0s 4ms/step - loss: 0.7695 - accuracy: 0.7997 - val_loss: 0.6426 - val_accuracy: 0.8496\n",
            "Epoch 4/15\n",
            "40/40 [==============================] - 0s 6ms/step - loss: 0.5361 - accuracy: 0.8826 - val_loss: 0.4806 - val_accuracy: 0.8894\n",
            "Epoch 5/15\n",
            "40/40 [==============================] - 0s 5ms/step - loss: 0.4099 - accuracy: 0.9063 - val_loss: 0.3889 - val_accuracy: 0.9045\n",
            "Epoch 6/15\n",
            "40/40 [==============================] - 0s 3ms/step - loss: 0.3321 - accuracy: 0.9249 - val_loss: 0.3427 - val_accuracy: 0.9072\n",
            "Epoch 7/15\n",
            "40/40 [==============================] - 0s 3ms/step - loss: 0.2818 - accuracy: 0.9338 - val_loss: 0.3054 - val_accuracy: 0.9209\n",
            "Epoch 8/15\n",
            "40/40 [==============================] - 0s 3ms/step - loss: 0.2448 - accuracy: 0.9402 - val_loss: 0.2705 - val_accuracy: 0.9301\n",
            "Epoch 9/15\n",
            "40/40 [==============================] - 0s 4ms/step - loss: 0.2156 - accuracy: 0.9479 - val_loss: 0.2512 - val_accuracy: 0.9342\n",
            "Epoch 10/15\n",
            "40/40 [==============================] - 0s 3ms/step - loss: 0.1923 - accuracy: 0.9534 - val_loss: 0.2335 - val_accuracy: 0.9337\n",
            "Epoch 11/15\n",
            "40/40 [==============================] - 0s 5ms/step - loss: 0.1747 - accuracy: 0.9565 - val_loss: 0.2273 - val_accuracy: 0.9356\n",
            "Epoch 12/15\n",
            "40/40 [==============================] - 0s 3ms/step - loss: 0.1569 - accuracy: 0.9620 - val_loss: 0.2152 - val_accuracy: 0.9397\n",
            "Epoch 13/15\n",
            "40/40 [==============================] - 0s 4ms/step - loss: 0.1434 - accuracy: 0.9653 - val_loss: 0.2034 - val_accuracy: 0.9456\n",
            "Epoch 14/15\n",
            "40/40 [==============================] - 0s 3ms/step - loss: 0.1338 - accuracy: 0.9681 - val_loss: 0.1960 - val_accuracy: 0.9429\n",
            "Epoch 15/15\n",
            "40/40 [==============================] - 0s 3ms/step - loss: 0.1210 - accuracy: 0.9716 - val_loss: 0.1903 - val_accuracy: 0.9497\n"
          ]
        }
      ]
    },
    {
      "cell_type": "code",
      "metadata": {
        "id": "qtWUihuZ3qKT"
      },
      "source": [
        "# Batch size testing for optimization 128, 64 and 10\n",
        "# Uncomment the respective batch size for each test\n",
        "\n",
        "'''\n",
        "#batch_size = 128\n",
        "batch_size = 64\n",
        "#batch_size = 32\n",
        "\n",
        "model.compile(loss=\"categorical_crossentropy\", optimizer = \"adam\", metrics =[\"accuracy\"])\n",
        "# when fitting can specify \n",
        "early_stopping = callbacks.EarlyStopping(monitor ='val_loss', mode ='min', patience = 5, restore_best_weights=True)\n",
        "history = model.fit(x_train, y_train, epochs = 15, batch_size = batch_size, validation_split = 0.3, callbacks=[early_stopping])\n",
        "'''"
      ],
      "execution_count": null,
      "outputs": []
    },
    {
      "cell_type": "code",
      "metadata": {
        "id": "boRGjJgM5361"
      },
      "source": [
        "# Learning rate optimization code block\n",
        "# Uncomment each optimizer depending on the learning rate to test\n",
        "\n",
        "'''\n",
        "#optimizer = keras.optimizers.Adam(lr=0.01)  # uncoment for First test learning rate = 0.01\n",
        "#optimizer = keras.optimizers.Adam(lr=0.001) # uncoment for Second test learning rate = 0.001\n",
        "optimizer = keras.optimizers.Adam(lr=0.0001) # uncoment for Third test learning rate = 0.0001\n",
        "\n",
        "model.compile(loss=\"categorical_crossentropy\", optimizer = optimizer, metrics =[\"accuracy\"])\n",
        "\n",
        "early_stopping = callbacks.EarlyStopping(monitor ='val_loss', mode ='min', patience = 5, restore_best_weights=True)\n",
        "history = model.fit(x_train, y_train, epochs = 15, batch_size = 128, validation_split = 0.3, callbacks=[early_stopping])\n",
        "'''"
      ],
      "execution_count": null,
      "outputs": []
    },
    {
      "cell_type": "code",
      "metadata": {
        "id": "9S2gq8e88Jaq"
      },
      "source": [
        "# Mommentum optimization code block\n",
        "# Uncomment each sgd depending on the mommentum to test\n",
        "\n",
        "'''\n",
        "batch_size = 128\n",
        "epochs = 15\n",
        "\n",
        "#sgd = keras.optimizers.SGD(lr=0.0001, momentum=0.05, nesterov=True)\n",
        "#sgd = keras.optimizers.SGD(lr=0.0001, momentum=0.9, nesterov=True)\n",
        "sgd = keras.optimizers.SGD(lr=0.0001, momentum=0.99, nesterov=True)\n",
        "\n",
        "\n",
        "model.compile(loss=\"categorical_crossentropy\", optimizer = sgd, \n",
        "              metrics =[\"accuracy\"])\n",
        "\n",
        "early_stopping = callbacks.EarlyStopping(monitor ='val_loss', mode ='min', \n",
        "                                         patience = 5, \n",
        "                                         restore_best_weights=True)\n",
        "history = model.fit(x_train, y_train, epochs = epochs, batch_size = batch_size, \n",
        "                    validation_split = 0.3, callbacks=[early_stopping])\n",
        "'''"
      ],
      "execution_count": null,
      "outputs": []
    },
    {
      "cell_type": "code",
      "metadata": {
        "colab": {
          "base_uri": "https://localhost:8080/"
        },
        "id": "0Aomabvd1JDk",
        "outputId": "7278c4ef-1bb7-476a-c6de-daabe91aa3cd"
      },
      "source": [
        "score = model.evaluate(x_test, y_test, verbose=0)\n",
        "print(\"Test loss: \", score[0])\n",
        "print(\"Test accuracy: \", score[1])"
      ],
      "execution_count": 41,
      "outputs": [
        {
          "output_type": "stream",
          "name": "stdout",
          "text": [
            "Test loss:  0.317523330450058\n",
            "Test accuracy:  0.9152964353561401\n"
          ]
        }
      ]
    },
    {
      "cell_type": "code",
      "metadata": {
        "colab": {
          "base_uri": "https://localhost:8080/",
          "height": 590
        },
        "id": "FoihPNZnaTyd",
        "outputId": "eaa44e9f-7bf3-449b-c263-0339fd0f16cd"
      },
      "source": [
        "# list all data in history\n",
        "print(history.history.keys())\n",
        "# summarize history for accuracy\n",
        "plt.plot(history.history['accuracy'])\n",
        "plt.plot(history.history['val_accuracy'])\n",
        "plt.title('model accuracy')\n",
        "plt.ylabel('accuracy')\n",
        "plt.xlabel('epoch')\n",
        "plt.legend(['train', 'test'], loc='upper left')\n",
        "plt.show()\n",
        "# summarize history for loss\n",
        "plt.plot(history.history['loss'])\n",
        "plt.plot(history.history['val_loss'])\n",
        "plt.title('model loss')\n",
        "plt.ylabel('loss')\n",
        "plt.xlabel('epoch')\n",
        "plt.legend(['train', 'test'], loc='upper left')\n",
        "plt.show()"
      ],
      "execution_count": 42,
      "outputs": [
        {
          "output_type": "stream",
          "name": "stdout",
          "text": [
            "dict_keys(['loss', 'accuracy', 'val_loss', 'val_accuracy'])\n"
          ]
        },
        {
          "output_type": "display_data",
          "data": {
            "image/png": "[encoded data removed]",
            "text/plain": [
              "<Figure size 432x288 with 1 Axes>"
            ]
          },
          "metadata": {
            "needs_background": "light"
          }
        },
        {
          "output_type": "display_data",
          "data": {
            "image/png": "[encoded data removed]",
            "text/plain": [
              "<Figure size 432x288 with 1 Axes>"
            ]
          },
          "metadata": {
            "needs_background": "light"
          }
        }
      ]
    }
  ]
}